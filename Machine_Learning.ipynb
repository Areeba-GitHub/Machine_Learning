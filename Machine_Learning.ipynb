{
 "cells": [
  {
   "cell_type": "code",
   "execution_count": 11,
   "id": "11dda2da-91f4-404e-b489-1b0c9be80fb0",
   "metadata": {},
   "outputs": [
    {
     "data": {
      "image/png": "[encoded data removed]",
      "text/plain": [
       "<Figure size 640x480 with 1 Axes>"
      ]
     },
     "metadata": {},
     "output_type": "display_data"
    }
   ],
   "source": [
    "import numpy as np\n",
    "import pandas as pd\n",
    "import matplotlib.pyplot as plt\n",
    "import sklearn.linear_model \n",
    "import sklearn.model_selection \n",
    "\n",
    "\n",
    "hours = np.array([1, 2, 3, 4, 5, 6, 7, 8])  \n",
    "score = np.array([2, 4, 6, 8, 10, 12, 14, 16])  \n",
    "\n",
    "df_1 = pd.DataFrame(hours)\n",
    "df_2 = pd.DataFrame(score)\n",
    "\n",
    "\n",
    "plt.bar(hours, score, color = 'pink')\n",
    "plt.title(\"Hours vs. Marks\")\n",
    "plt.xlabel(\"Hours\")\n",
    "plt.ylabel(\"Marks\")\n",
    "plt.show() "
   ]
  },
  {
   "cell_type": "code",
   "execution_count": 20,
   "id": "0681cf28-f44b-4ade-8efb-02519fb624a0",
   "metadata": {},
   "outputs": [
    {
     "name": "stdin",
     "output_type": "stream",
     "text": [
      "Enter the number of hours studied:  4\n"
     ]
    },
    {
     "ename": "TypeError",
     "evalue": "unsupported format string passed to numpy.ndarray.__format__",
     "output_type": "error",
     "traceback": [
      "\u001b[1;31m---------------------------------------------------------------------------\u001b[0m",
      "\u001b[1;31mTypeError\u001b[0m                                 Traceback (most recent call last)",
      "Cell \u001b[1;32mIn[20], line 19\u001b[0m\n\u001b[0;32m     16\u001b[0m hours_studied \u001b[38;5;241m=\u001b[39m \u001b[38;5;28mfloat\u001b[39m(\u001b[38;5;28minput\u001b[39m(\u001b[38;5;124m\"\u001b[39m\u001b[38;5;124mEnter the number of hours studied: \u001b[39m\u001b[38;5;124m\"\u001b[39m))\n\u001b[0;32m     17\u001b[0m predicted_score \u001b[38;5;241m=\u001b[39m model\u001b[38;5;241m.\u001b[39mpredict([[hours_studied]])\n\u001b[1;32m---> 19\u001b[0m \u001b[38;5;28mprint\u001b[39m(\u001b[38;5;124mf\u001b[39m\u001b[38;5;124m\"\u001b[39m\u001b[38;5;124mPredicted Exam Score: \u001b[39m\u001b[38;5;132;01m{\u001b[39;00mpredicted_score[\u001b[38;5;241m0\u001b[39m]\u001b[38;5;132;01m:\u001b[39;00m\u001b[38;5;124m.2f\u001b[39m\u001b[38;5;132;01m}\u001b[39;00m\u001b[38;5;124m\"\u001b[39m)\n",
      "\u001b[1;31mTypeError\u001b[0m: unsupported format string passed to numpy.ndarray.__format__"
     ]
    }
   ],
   "source": [
    "# Import the train_test_split function from scikit-learn\n",
    "from sklearn.model_selection import train_test_split\n",
    "# Import LinearRegression from scikit-learn\n",
    "from sklearn.linear_model import LinearRegression\n",
    "\n",
    "hours = [[1], [2], [3], [4], [5], [6], [7], [8]]\n",
    "score = [[2], [4], [6], [8], [10], [12], [14], [16]]\n",
    "# Now use the function\n",
    "hours_train, hours_test, score_train, score_test = train_test_split(hours, score, test_size=0.2)  # splitting data into test and train part\n",
    "model = LinearRegression()  # setting the training model\n",
    "model.fit(hours_train, score_train)  # training model - also fixed variable names to match the split data\n",
    "predictions = model.predict(hours_test)\n",
    "\n",
    "\n",
    "# 🎓 Let user try their own input\n",
    "hours_studied = float(input(\"Enter the number of hours studied: \"))\n",
    "predicted_score = model.predict([[hours_studied]])\n",
    "\n",
    "print(f\"Predicted Exam Score: {predicted_score[0]:}\")\n"
   ]
  },
  {
   "cell_type": "code",
   "execution_count": null,
   "id": "9d351bae-150b-4eb4-944f-15c43aeb19d0",
   "metadata": {},
   "outputs": [],
   "source": []
  }
 ],
 "metadata": {
  "kernelspec": {
   "display_name": "Python [conda env:base] *",
   "language": "python",
   "name": "conda-base-py"
  },
  "language_info": {
   "codemirror_mode": {
    "name": "ipython",
    "version": 3
   },
   "file_extension": ".py",
   "mimetype": "text/x-python",
   "name": "python",
   "nbconvert_exporter": "python",
   "pygments_lexer": "ipython3",
   "version": "3.12.7"
  }
 },
 "nbformat": 4,
 "nbformat_minor": 5
}
